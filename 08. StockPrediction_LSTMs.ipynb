{
 "cells": [
  {
   "cell_type": "code",
   "execution_count": 1,
   "metadata": {},
   "outputs": [],
   "source": [
    "import numpy as np\n",
    "import matplotlib.pyplot as plt\n",
    "import pandas as pd\n",
    "import tensorflow as tf\n",
    "from sklearn.preprocessing import MinMaxScaler"
   ]
  },
  {
   "cell_type": "code",
   "execution_count": 2,
   "metadata": {},
   "outputs": [
    {
     "data": {
      "text/html": [
       "<div>\n",
       "<style scoped>\n",
       "    .dataframe tbody tr th:only-of-type {\n",
       "        vertical-align: middle;\n",
       "    }\n",
       "\n",
       "    .dataframe tbody tr th {\n",
       "        vertical-align: top;\n",
       "    }\n",
       "\n",
       "    .dataframe thead th {\n",
       "        text-align: right;\n",
       "    }\n",
       "</style>\n",
       "<table border=\"1\" class=\"dataframe\">\n",
       "  <thead>\n",
       "    <tr style=\"text-align: right;\">\n",
       "      <th></th>\n",
       "      <th>Date</th>\n",
       "      <th>Open</th>\n",
       "      <th>High</th>\n",
       "      <th>Low</th>\n",
       "      <th>Close</th>\n",
       "      <th>Adj Close</th>\n",
       "      <th>Volume</th>\n",
       "    </tr>\n",
       "  </thead>\n",
       "  <tbody>\n",
       "    <tr>\n",
       "      <th>0</th>\n",
       "      <td>2014-12-29</td>\n",
       "      <td>530.732849</td>\n",
       "      <td>534.013855</td>\n",
       "      <td>528.559814</td>\n",
       "      <td>528.877991</td>\n",
       "      <td>528.877991</td>\n",
       "      <td>2278500</td>\n",
       "    </tr>\n",
       "    <tr>\n",
       "      <th>1</th>\n",
       "      <td>2014-12-30</td>\n",
       "      <td>526.644104</td>\n",
       "      <td>529.695740</td>\n",
       "      <td>525.686707</td>\n",
       "      <td>528.967712</td>\n",
       "      <td>528.967712</td>\n",
       "      <td>876200</td>\n",
       "    </tr>\n",
       "    <tr>\n",
       "      <th>2</th>\n",
       "      <td>2014-12-31</td>\n",
       "      <td>529.795471</td>\n",
       "      <td>531.141724</td>\n",
       "      <td>524.360352</td>\n",
       "      <td>524.958740</td>\n",
       "      <td>524.958740</td>\n",
       "      <td>1368200</td>\n",
       "    </tr>\n",
       "    <tr>\n",
       "      <th>3</th>\n",
       "      <td>2015-01-02</td>\n",
       "      <td>527.561584</td>\n",
       "      <td>529.815369</td>\n",
       "      <td>522.665039</td>\n",
       "      <td>523.373108</td>\n",
       "      <td>523.373108</td>\n",
       "      <td>1447500</td>\n",
       "    </tr>\n",
       "    <tr>\n",
       "      <th>4</th>\n",
       "      <td>2015-01-05</td>\n",
       "      <td>521.827332</td>\n",
       "      <td>522.894409</td>\n",
       "      <td>511.655243</td>\n",
       "      <td>512.463013</td>\n",
       "      <td>512.463013</td>\n",
       "      <td>2059800</td>\n",
       "    </tr>\n",
       "  </tbody>\n",
       "</table>\n",
       "</div>"
      ],
      "text/plain": [
       "         Date        Open        High         Low       Close   Adj Close  \\\n",
       "0  2014-12-29  530.732849  534.013855  528.559814  528.877991  528.877991   \n",
       "1  2014-12-30  526.644104  529.695740  525.686707  528.967712  528.967712   \n",
       "2  2014-12-31  529.795471  531.141724  524.360352  524.958740  524.958740   \n",
       "3  2015-01-02  527.561584  529.815369  522.665039  523.373108  523.373108   \n",
       "4  2015-01-05  521.827332  522.894409  511.655243  512.463013  512.463013   \n",
       "\n",
       "    Volume  \n",
       "0  2278500  \n",
       "1   876200  \n",
       "2  1368200  \n",
       "3  1447500  \n",
       "4  2059800  "
      ]
     },
     "execution_count": 2,
     "metadata": {},
     "output_type": "execute_result"
    }
   ],
   "source": [
    "data = pd.read_csv('GOOG.csv')\n",
    "data.head()"
   ]
  },
  {
   "cell_type": "code",
   "execution_count": 3,
   "metadata": {},
   "outputs": [],
   "source": [
    "x = data.iloc[:, 1:2].values"
   ]
  },
  {
   "cell_type": "code",
   "execution_count": 4,
   "metadata": {},
   "outputs": [],
   "source": [
    "sc = MinMaxScaler(feature_range=(0, 1))\n",
    "x = sc.fit_transform(x)"
   ]
  },
  {
   "cell_type": "code",
   "execution_count": 5,
   "metadata": {
    "scrolled": false
   },
   "outputs": [
    {
     "data": {
      "text/plain": [
       "array([[0.04302857],\n",
       "       [0.03832916],\n",
       "       [0.04195119],\n",
       "       [0.03938367],\n",
       "       [0.03279298],\n",
       "       [0.02332534],\n",
       "       [0.01415566],\n",
       "       [0.00382835],\n",
       "       [0.01158817],\n",
       "       [0.00033241]])"
      ]
     },
     "execution_count": 5,
     "metadata": {},
     "output_type": "execute_result"
    }
   ],
   "source": [
    "x[:10]"
   ]
  },
  {
   "cell_type": "code",
   "execution_count": 6,
   "metadata": {},
   "outputs": [
    {
     "data": {
      "text/plain": [
       "1259"
      ]
     },
     "execution_count": 6,
     "metadata": {},
     "output_type": "execute_result"
    }
   ],
   "source": [
    "len(x)"
   ]
  },
  {
   "cell_type": "code",
   "execution_count": 7,
   "metadata": {},
   "outputs": [],
   "source": [
    "x_train = []\n",
    "y_train = []\n",
    "for i in range(25, 1259):\n",
    "    x_train.append(x[i-25:i, 0])\n",
    "    y_train.append(x[i, 0])"
   ]
  },
  {
   "cell_type": "code",
   "execution_count": 8,
   "metadata": {},
   "outputs": [
    {
     "data": {
      "text/plain": [
       "array([0.04302857, 0.03832916, 0.04195119, 0.03938367, 0.03279298,\n",
       "       0.02332534, 0.01415566, 0.00382835, 0.01158817, 0.00033241,\n",
       "       0.00480261, 0.        , 0.01251658, 0.00614368, 0.01874048,\n",
       "       0.01444219, 0.03075271, 0.04692567, 0.05029558, 0.04048399,\n",
       "       0.03224279, 0.01874048, 0.02431103, 0.04250132, 0.03822597])"
      ]
     },
     "execution_count": 8,
     "metadata": {},
     "output_type": "execute_result"
    }
   ],
   "source": [
    "x_train[0]"
   ]
  },
  {
   "cell_type": "code",
   "execution_count": 9,
   "metadata": {},
   "outputs": [
    {
     "data": {
      "text/plain": [
       "0.039647295723679976"
      ]
     },
     "execution_count": 9,
     "metadata": {},
     "output_type": "execute_result"
    }
   ],
   "source": [
    "y_train[0]"
   ]
  },
  {
   "cell_type": "code",
   "execution_count": 10,
   "metadata": {},
   "outputs": [],
   "source": [
    "x_train, y_train = np.array(x_train), np.array(y_train)"
   ]
  },
  {
   "cell_type": "code",
   "execution_count": 11,
   "metadata": {},
   "outputs": [],
   "source": [
    "x_train = np.reshape(x_train, (x_train.shape[0], x_train.shape[1], 1))"
   ]
  },
  {
   "cell_type": "code",
   "execution_count": 12,
   "metadata": {},
   "outputs": [],
   "source": [
    "model = tf.keras.models.Sequential([\n",
    "    tf.keras.layers.LSTM(50, return_sequences=True, input_shape=(x_train.shape[1], 1)),\n",
    "    tf.keras.layers.Dropout(0.5),\n",
    "    tf.keras.layers.LSTM(50, return_sequences=True),\n",
    "    tf.keras.layers.Dropout(0.4),\n",
    "    tf.keras.layers.LSTM(50, return_sequences=True),\n",
    "    tf.keras.layers.Dropout(0.3),\n",
    "    tf.keras.layers.LSTM(50),\n",
    "    tf.keras.layers.Dropout(0.2),\n",
    "    tf.keras.layers.Dense(1)\n",
    "])"
   ]
  },
  {
   "cell_type": "code",
   "execution_count": 13,
   "metadata": {},
   "outputs": [],
   "source": [
    "model.compile(optimizer='adam',\n",
    "             loss='mean_squared_error')"
   ]
  },
  {
   "cell_type": "code",
   "execution_count": 14,
   "metadata": {},
   "outputs": [
    {
     "name": "stdout",
     "output_type": "stream",
     "text": [
      "Train on 1234 samples\n",
      "Epoch 1/10\n",
      "1234/1234 [==============================] - 7s 6ms/sample - loss: 0.1000\n",
      "Epoch 2/10\n",
      "1234/1234 [==============================] - 1s 870us/sample - loss: 0.0245\n",
      "Epoch 3/10\n",
      "1234/1234 [==============================] - 1s 884us/sample - loss: 0.0146\n",
      "Epoch 4/10\n",
      "1234/1234 [==============================] - 1s 892us/sample - loss: 0.0097\n",
      "Epoch 5/10\n",
      "1234/1234 [==============================] - 1s 926us/sample - loss: 0.0071\n",
      "Epoch 6/10\n",
      "1234/1234 [==============================] - 1s 896us/sample - loss: 0.0067\n",
      "Epoch 7/10\n",
      "1234/1234 [==============================] - 1s 903us/sample - loss: 0.0058\n",
      "Epoch 8/10\n",
      "1234/1234 [==============================] - 1s 900us/sample - loss: 0.0060\n",
      "Epoch 9/10\n",
      "1234/1234 [==============================] - 1s 896us/sample - loss: 0.0063\n",
      "Epoch 10/10\n",
      "1234/1234 [==============================] - 1s 1ms/sample - loss: 0.0062\n"
     ]
    }
   ],
   "source": [
    "history = model.fit(x_train, y_train, epochs=10, batch_size=128)"
   ]
  },
  {
   "cell_type": "code",
   "execution_count": 15,
   "metadata": {},
   "outputs": [],
   "source": [
    "predictions = model.predict(x_train)"
   ]
  },
  {
   "cell_type": "code",
   "execution_count": 16,
   "metadata": {},
   "outputs": [
    {
     "data": {
      "text/plain": [
       "[<matplotlib.lines.Line2D at 0x15fbd0c3088>]"
      ]
     },
     "execution_count": 16,
     "metadata": {},
     "output_type": "execute_result"
    },
    {
     "data": {
      "image/png": "[encoded data removed]",
      "text/plain": [
       "<Figure size 432x288 with 1 Axes>"
      ]
     },
     "metadata": {
      "needs_background": "light"
     },
     "output_type": "display_data"
    }
   ],
   "source": [
    "plt.plot(range(len(x_train)), y_train, c='g')\n",
    "plt.plot(range(len(x_train)), predictions, c='r')"
   ]
  },
  {
   "cell_type": "code",
   "execution_count": null,
   "metadata": {},
   "outputs": [],
   "source": []
  }
 ],
 "metadata": {
  "kernelspec": {
   "display_name": "Python 3",
   "language": "python",
   "name": "python3"
  },
  "language_info": {
   "codemirror_mode": {
    "name": "ipython",
    "version": 3
   },
   "file_extension": ".py",
   "mimetype": "text/x-python",
   "name": "python",
   "nbconvert_exporter": "python",
   "pygments_lexer": "ipython3",
   "version": "3.7.4"
  }
 },
 "nbformat": 4,
 "nbformat_minor": 2
}
